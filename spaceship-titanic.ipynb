{
 "cells": [
  {
   "cell_type": "markdown",
   "id": "b9c9716f",
   "metadata": {
    "papermill": {
     "duration": 0.013047,
     "end_time": "2023-03-31T01:37:51.802589",
     "exception": false,
     "start_time": "2023-03-31T01:37:51.789542",
     "status": "completed"
    },
    "tags": []
   },
   "source": [
    "# "
   ]
  },
  {
   "cell_type": "markdown",
   "id": "a0044676",
   "metadata": {
    "papermill": {
     "duration": 0.012171,
     "end_time": "2023-03-31T01:37:51.826708",
     "exception": false,
     "start_time": "2023-03-31T01:37:51.814537",
     "status": "completed"
    },
    "tags": []
   },
   "source": [
    "## Importing Some Necessary Libraries"
   ]
  },
  {
   "cell_type": "code",
   "execution_count": 1,
   "id": "27748704",
   "metadata": {
    "_cell_guid": "b1076dfc-b9ad-4769-8c92-a6c4dae69d19",
    "_uuid": "8f2839f25d086af736a60e9eeb907d3b93b6e0e5",
    "execution": {
     "iopub.execute_input": "2023-03-31T01:37:51.854570Z",
     "iopub.status.busy": "2023-03-31T01:37:51.854141Z",
     "iopub.status.idle": "2023-03-31T01:37:53.273362Z",
     "shell.execute_reply": "2023-03-31T01:37:53.272230Z"
    },
    "papermill": {
     "duration": 1.436022,
     "end_time": "2023-03-31T01:37:53.276272",
     "exception": false,
     "start_time": "2023-03-31T01:37:51.840250",
     "status": "completed"
    },
    "tags": []
   },
   "outputs": [],
   "source": [
    "import numpy as np # linear algebra\n",
    "import pandas as pd # data processing, CSV file I/O (e.g. pd.read_csv)\n",
    "import seaborn as sns\n",
    "import matplotlib.pyplot as plt\n",
    "import os\n",
    "\n",
    "\n",
    "from sklearn.impute import SimpleImputer\n"
   ]
  },
  {
   "cell_type": "markdown",
   "id": "811b59b6",
   "metadata": {
    "papermill": {
     "duration": 0.012071,
     "end_time": "2023-03-31T01:37:53.300512",
     "exception": false,
     "start_time": "2023-03-31T01:37:53.288441",
     "status": "completed"
    },
    "tags": []
   },
   "source": [
    "## Setting up the notebook Enviornment"
   ]
  },
  {
   "cell_type": "code",
   "execution_count": 2,
   "id": "0229b65d",
   "metadata": {
    "execution": {
     "iopub.execute_input": "2023-03-31T01:37:53.326986Z",
     "iopub.status.busy": "2023-03-31T01:37:53.326178Z",
     "iopub.status.idle": "2023-03-31T01:37:53.335766Z",
     "shell.execute_reply": "2023-03-31T01:37:53.334472Z"
    },
    "papermill": {
     "duration": 0.025664,
     "end_time": "2023-03-31T01:37:53.338208",
     "exception": false,
     "start_time": "2023-03-31T01:37:53.312544",
     "status": "completed"
    },
    "tags": []
   },
   "outputs": [
    {
     "name": "stdout",
     "output_type": "stream",
     "text": [
      "/kaggle/input/spaceship-titanic/sample_submission.csv\n",
      "/kaggle/input/spaceship-titanic/train.csv\n",
      "/kaggle/input/spaceship-titanic/test.csv\n"
     ]
    }
   ],
   "source": [
    "for dirname, _, filenames in os.walk('/kaggle/input'):\n",
    "    for filename in filenames:\n",
    "        print(os.path.join(dirname, filename))\n"
   ]
  },
  {
   "cell_type": "code",
   "execution_count": 3,
   "id": "0ab1c77d",
   "metadata": {
    "execution": {
     "iopub.execute_input": "2023-03-31T01:37:53.364900Z",
     "iopub.status.busy": "2023-03-31T01:37:53.364456Z",
     "iopub.status.idle": "2023-03-31T01:37:53.485707Z",
     "shell.execute_reply": "2023-03-31T01:37:53.484493Z"
    },
    "papermill": {
     "duration": 0.13827,
     "end_time": "2023-03-31T01:37:53.488695",
     "exception": false,
     "start_time": "2023-03-31T01:37:53.350425",
     "status": "completed"
    },
    "tags": []
   },
   "outputs": [
    {
     "data": {
      "text/html": [
       "<div>\n",
       "<style scoped>\n",
       "    .dataframe tbody tr th:only-of-type {\n",
       "        vertical-align: middle;\n",
       "    }\n",
       "\n",
       "    .dataframe tbody tr th {\n",
       "        vertical-align: top;\n",
       "    }\n",
       "\n",
       "    .dataframe thead th {\n",
       "        text-align: right;\n",
       "    }\n",
       "</style>\n",
       "<table border=\"1\" class=\"dataframe\">\n",
       "  <thead>\n",
       "    <tr style=\"text-align: right;\">\n",
       "      <th></th>\n",
       "      <th>PassengerId</th>\n",
       "      <th>HomePlanet</th>\n",
       "      <th>CryoSleep</th>\n",
       "      <th>Cabin</th>\n",
       "      <th>Destination</th>\n",
       "      <th>Age</th>\n",
       "      <th>VIP</th>\n",
       "      <th>RoomService</th>\n",
       "      <th>FoodCourt</th>\n",
       "      <th>ShoppingMall</th>\n",
       "      <th>Spa</th>\n",
       "      <th>VRDeck</th>\n",
       "      <th>Name</th>\n",
       "      <th>Transported</th>\n",
       "    </tr>\n",
       "  </thead>\n",
       "  <tbody>\n",
       "    <tr>\n",
       "      <th>0</th>\n",
       "      <td>0001_01</td>\n",
       "      <td>Europa</td>\n",
       "      <td>False</td>\n",
       "      <td>B/0/P</td>\n",
       "      <td>TRAPPIST-1e</td>\n",
       "      <td>39.0</td>\n",
       "      <td>False</td>\n",
       "      <td>0.0</td>\n",
       "      <td>0.0</td>\n",
       "      <td>0.0</td>\n",
       "      <td>0.0</td>\n",
       "      <td>0.0</td>\n",
       "      <td>Maham Ofracculy</td>\n",
       "      <td>False</td>\n",
       "    </tr>\n",
       "    <tr>\n",
       "      <th>1</th>\n",
       "      <td>0002_01</td>\n",
       "      <td>Earth</td>\n",
       "      <td>False</td>\n",
       "      <td>F/0/S</td>\n",
       "      <td>TRAPPIST-1e</td>\n",
       "      <td>24.0</td>\n",
       "      <td>False</td>\n",
       "      <td>109.0</td>\n",
       "      <td>9.0</td>\n",
       "      <td>25.0</td>\n",
       "      <td>549.0</td>\n",
       "      <td>44.0</td>\n",
       "      <td>Juanna Vines</td>\n",
       "      <td>True</td>\n",
       "    </tr>\n",
       "    <tr>\n",
       "      <th>2</th>\n",
       "      <td>0003_01</td>\n",
       "      <td>Europa</td>\n",
       "      <td>False</td>\n",
       "      <td>A/0/S</td>\n",
       "      <td>TRAPPIST-1e</td>\n",
       "      <td>58.0</td>\n",
       "      <td>True</td>\n",
       "      <td>43.0</td>\n",
       "      <td>3576.0</td>\n",
       "      <td>0.0</td>\n",
       "      <td>6715.0</td>\n",
       "      <td>49.0</td>\n",
       "      <td>Altark Susent</td>\n",
       "      <td>False</td>\n",
       "    </tr>\n",
       "  </tbody>\n",
       "</table>\n",
       "</div>"
      ],
      "text/plain": [
       "  PassengerId HomePlanet CryoSleep  Cabin  Destination   Age    VIP  \\\n",
       "0     0001_01     Europa     False  B/0/P  TRAPPIST-1e  39.0  False   \n",
       "1     0002_01      Earth     False  F/0/S  TRAPPIST-1e  24.0  False   \n",
       "2     0003_01     Europa     False  A/0/S  TRAPPIST-1e  58.0   True   \n",
       "\n",
       "   RoomService  FoodCourt  ShoppingMall     Spa  VRDeck             Name  \\\n",
       "0          0.0        0.0           0.0     0.0     0.0  Maham Ofracculy   \n",
       "1        109.0        9.0          25.0   549.0    44.0     Juanna Vines   \n",
       "2         43.0     3576.0           0.0  6715.0    49.0    Altark Susent   \n",
       "\n",
       "   Transported  \n",
       "0        False  \n",
       "1         True  \n",
       "2        False  "
      ]
     },
     "execution_count": 3,
     "metadata": {},
     "output_type": "execute_result"
    }
   ],
   "source": [
    "df = pd.read_csv(\"/kaggle/input/spaceship-titanic/train.csv\")\n",
    "val = pd.read_csv(\"/kaggle/input/spaceship-titanic/test.csv\")\n",
    "\n",
    "df.head(3)"
   ]
  },
  {
   "cell_type": "code",
   "execution_count": 4,
   "id": "2efe55ff",
   "metadata": {
    "execution": {
     "iopub.execute_input": "2023-03-31T01:37:53.516016Z",
     "iopub.status.busy": "2023-03-31T01:37:53.514752Z",
     "iopub.status.idle": "2023-03-31T01:37:53.536982Z",
     "shell.execute_reply": "2023-03-31T01:37:53.535763Z"
    },
    "papermill": {
     "duration": 0.038609,
     "end_time": "2023-03-31T01:37:53.539670",
     "exception": false,
     "start_time": "2023-03-31T01:37:53.501061",
     "status": "completed"
    },
    "tags": []
   },
   "outputs": [
    {
     "data": {
      "text/html": [
       "<div>\n",
       "<style scoped>\n",
       "    .dataframe tbody tr th:only-of-type {\n",
       "        vertical-align: middle;\n",
       "    }\n",
       "\n",
       "    .dataframe tbody tr th {\n",
       "        vertical-align: top;\n",
       "    }\n",
       "\n",
       "    .dataframe thead th {\n",
       "        text-align: right;\n",
       "    }\n",
       "</style>\n",
       "<table border=\"1\" class=\"dataframe\">\n",
       "  <thead>\n",
       "    <tr style=\"text-align: right;\">\n",
       "      <th></th>\n",
       "      <th>PassengerId</th>\n",
       "      <th>HomePlanet</th>\n",
       "      <th>CryoSleep</th>\n",
       "      <th>Cabin</th>\n",
       "      <th>Destination</th>\n",
       "      <th>Age</th>\n",
       "      <th>VIP</th>\n",
       "      <th>RoomService</th>\n",
       "      <th>FoodCourt</th>\n",
       "      <th>ShoppingMall</th>\n",
       "      <th>Spa</th>\n",
       "      <th>VRDeck</th>\n",
       "      <th>Name</th>\n",
       "      <th>Transported</th>\n",
       "    </tr>\n",
       "  </thead>\n",
       "  <tbody>\n",
       "    <tr>\n",
       "      <th>8690</th>\n",
       "      <td>9279_01</td>\n",
       "      <td>Earth</td>\n",
       "      <td>False</td>\n",
       "      <td>G/1500/S</td>\n",
       "      <td>TRAPPIST-1e</td>\n",
       "      <td>26.0</td>\n",
       "      <td>False</td>\n",
       "      <td>0.0</td>\n",
       "      <td>0.0</td>\n",
       "      <td>1872.0</td>\n",
       "      <td>1.0</td>\n",
       "      <td>0.0</td>\n",
       "      <td>Fayey Connon</td>\n",
       "      <td>True</td>\n",
       "    </tr>\n",
       "    <tr>\n",
       "      <th>8691</th>\n",
       "      <td>9280_01</td>\n",
       "      <td>Europa</td>\n",
       "      <td>False</td>\n",
       "      <td>E/608/S</td>\n",
       "      <td>55 Cancri e</td>\n",
       "      <td>32.0</td>\n",
       "      <td>False</td>\n",
       "      <td>0.0</td>\n",
       "      <td>1049.0</td>\n",
       "      <td>0.0</td>\n",
       "      <td>353.0</td>\n",
       "      <td>3235.0</td>\n",
       "      <td>Celeon Hontichre</td>\n",
       "      <td>False</td>\n",
       "    </tr>\n",
       "    <tr>\n",
       "      <th>8692</th>\n",
       "      <td>9280_02</td>\n",
       "      <td>Europa</td>\n",
       "      <td>False</td>\n",
       "      <td>E/608/S</td>\n",
       "      <td>TRAPPIST-1e</td>\n",
       "      <td>44.0</td>\n",
       "      <td>False</td>\n",
       "      <td>126.0</td>\n",
       "      <td>4688.0</td>\n",
       "      <td>0.0</td>\n",
       "      <td>0.0</td>\n",
       "      <td>12.0</td>\n",
       "      <td>Propsh Hontichre</td>\n",
       "      <td>True</td>\n",
       "    </tr>\n",
       "  </tbody>\n",
       "</table>\n",
       "</div>"
      ],
      "text/plain": [
       "     PassengerId HomePlanet CryoSleep     Cabin  Destination   Age    VIP  \\\n",
       "8690     9279_01      Earth     False  G/1500/S  TRAPPIST-1e  26.0  False   \n",
       "8691     9280_01     Europa     False   E/608/S  55 Cancri e  32.0  False   \n",
       "8692     9280_02     Europa     False   E/608/S  TRAPPIST-1e  44.0  False   \n",
       "\n",
       "      RoomService  FoodCourt  ShoppingMall    Spa  VRDeck              Name  \\\n",
       "8690          0.0        0.0        1872.0    1.0     0.0      Fayey Connon   \n",
       "8691          0.0     1049.0           0.0  353.0  3235.0  Celeon Hontichre   \n",
       "8692        126.0     4688.0           0.0    0.0    12.0  Propsh Hontichre   \n",
       "\n",
       "      Transported  \n",
       "8690         True  \n",
       "8691        False  \n",
       "8692         True  "
      ]
     },
     "execution_count": 4,
     "metadata": {},
     "output_type": "execute_result"
    }
   ],
   "source": [
    "df.tail(3)"
   ]
  },
  {
   "cell_type": "code",
   "execution_count": 5,
   "id": "d9998e66",
   "metadata": {
    "execution": {
     "iopub.execute_input": "2023-03-31T01:37:53.567789Z",
     "iopub.status.busy": "2023-03-31T01:37:53.566773Z",
     "iopub.status.idle": "2023-03-31T01:37:54.349542Z",
     "shell.execute_reply": "2023-03-31T01:37:54.347887Z"
    },
    "papermill": {
     "duration": 0.799932,
     "end_time": "2023-03-31T01:37:54.352139",
     "exception": false,
     "start_time": "2023-03-31T01:37:53.552207",
     "status": "completed"
    },
    "tags": []
   },
   "outputs": [
    {
     "data": {
      "text/plain": [
       "<AxesSubplot:>"
      ]
     },
     "execution_count": 5,
     "metadata": {},
     "output_type": "execute_result"
    },
    {
     "data": {
      "image/png": "[encoded data removed]",
      "text/plain": [
       "<Figure size 640x480 with 1 Axes>"
      ]
     },
     "metadata": {},
     "output_type": "display_data"
    }
   ],
   "source": [
    "df.plot()"
   ]
  },
  {
   "cell_type": "code",
   "execution_count": 6,
   "id": "2c12ead4",
   "metadata": {
    "execution": {
     "iopub.execute_input": "2023-03-31T01:37:54.381248Z",
     "iopub.status.busy": "2023-03-31T01:37:54.380478Z",
     "iopub.status.idle": "2023-03-31T01:37:54.388303Z",
     "shell.execute_reply": "2023-03-31T01:37:54.387172Z"
    },
    "papermill": {
     "duration": 0.025162,
     "end_time": "2023-03-31T01:37:54.390853",
     "exception": false,
     "start_time": "2023-03-31T01:37:54.365691",
     "status": "completed"
    },
    "tags": []
   },
   "outputs": [
    {
     "data": {
      "text/plain": [
       "PassengerId      object\n",
       "HomePlanet       object\n",
       "CryoSleep        object\n",
       "Cabin            object\n",
       "Destination      object\n",
       "Age             float64\n",
       "VIP              object\n",
       "RoomService     float64\n",
       "FoodCourt       float64\n",
       "ShoppingMall    float64\n",
       "Spa             float64\n",
       "VRDeck          float64\n",
       "Name             object\n",
       "Transported        bool\n",
       "dtype: object"
      ]
     },
     "execution_count": 6,
     "metadata": {},
     "output_type": "execute_result"
    }
   ],
   "source": [
    "df.dtypes"
   ]
  },
  {
   "cell_type": "code",
   "execution_count": 7,
   "id": "a6406bb1",
   "metadata": {
    "execution": {
     "iopub.execute_input": "2023-03-31T01:37:54.419957Z",
     "iopub.status.busy": "2023-03-31T01:37:54.419162Z",
     "iopub.status.idle": "2023-03-31T01:37:54.439348Z",
     "shell.execute_reply": "2023-03-31T01:37:54.437189Z"
    },
    "papermill": {
     "duration": 0.037952,
     "end_time": "2023-03-31T01:37:54.442218",
     "exception": false,
     "start_time": "2023-03-31T01:37:54.404266",
     "status": "completed"
    },
    "tags": []
   },
   "outputs": [
    {
     "name": "stdout",
     "output_type": "stream",
     "text": [
      "<class 'pandas.core.frame.DataFrame'>\n",
      "RangeIndex: 8693 entries, 0 to 8692\n",
      "Data columns (total 14 columns):\n",
      " #   Column        Non-Null Count  Dtype  \n",
      "---  ------        --------------  -----  \n",
      " 0   PassengerId   8693 non-null   object \n",
      " 1   HomePlanet    8492 non-null   object \n",
      " 2   CryoSleep     8476 non-null   object \n",
      " 3   Cabin         8494 non-null   object \n",
      " 4   Destination   8511 non-null   object \n",
      " 5   Age           8514 non-null   float64\n",
      " 6   VIP           8490 non-null   object \n",
      " 7   RoomService   8512 non-null   float64\n",
      " 8   FoodCourt     8510 non-null   float64\n",
      " 9   ShoppingMall  8485 non-null   float64\n",
      " 10  Spa           8510 non-null   float64\n",
      " 11  VRDeck        8505 non-null   float64\n",
      " 12  Name          8493 non-null   object \n",
      " 13  Transported   8693 non-null   bool   \n",
      "dtypes: bool(1), float64(6), object(7)\n",
      "memory usage: 891.5+ KB\n"
     ]
    }
   ],
   "source": [
    "df.info()"
   ]
  },
  {
   "cell_type": "code",
   "execution_count": 8,
   "id": "1efbcc2e",
   "metadata": {
    "execution": {
     "iopub.execute_input": "2023-03-31T01:37:54.471110Z",
     "iopub.status.busy": "2023-03-31T01:37:54.470639Z",
     "iopub.status.idle": "2023-03-31T01:37:54.503947Z",
     "shell.execute_reply": "2023-03-31T01:37:54.502787Z"
    },
    "papermill": {
     "duration": 0.05095,
     "end_time": "2023-03-31T01:37:54.506712",
     "exception": false,
     "start_time": "2023-03-31T01:37:54.455762",
     "status": "completed"
    },
    "tags": []
   },
   "outputs": [
    {
     "data": {
      "text/html": [
       "<div>\n",
       "<style scoped>\n",
       "    .dataframe tbody tr th:only-of-type {\n",
       "        vertical-align: middle;\n",
       "    }\n",
       "\n",
       "    .dataframe tbody tr th {\n",
       "        vertical-align: top;\n",
       "    }\n",
       "\n",
       "    .dataframe thead th {\n",
       "        text-align: right;\n",
       "    }\n",
       "</style>\n",
       "<table border=\"1\" class=\"dataframe\">\n",
       "  <thead>\n",
       "    <tr style=\"text-align: right;\">\n",
       "      <th></th>\n",
       "      <th>Age</th>\n",
       "      <th>RoomService</th>\n",
       "      <th>FoodCourt</th>\n",
       "      <th>ShoppingMall</th>\n",
       "      <th>Spa</th>\n",
       "      <th>VRDeck</th>\n",
       "    </tr>\n",
       "  </thead>\n",
       "  <tbody>\n",
       "    <tr>\n",
       "      <th>count</th>\n",
       "      <td>8514.000000</td>\n",
       "      <td>8512.000000</td>\n",
       "      <td>8510.000000</td>\n",
       "      <td>8485.000000</td>\n",
       "      <td>8510.000000</td>\n",
       "      <td>8505.000000</td>\n",
       "    </tr>\n",
       "    <tr>\n",
       "      <th>mean</th>\n",
       "      <td>28.827930</td>\n",
       "      <td>224.687617</td>\n",
       "      <td>458.077203</td>\n",
       "      <td>173.729169</td>\n",
       "      <td>311.138778</td>\n",
       "      <td>304.854791</td>\n",
       "    </tr>\n",
       "    <tr>\n",
       "      <th>std</th>\n",
       "      <td>14.489021</td>\n",
       "      <td>666.717663</td>\n",
       "      <td>1611.489240</td>\n",
       "      <td>604.696458</td>\n",
       "      <td>1136.705535</td>\n",
       "      <td>1145.717189</td>\n",
       "    </tr>\n",
       "    <tr>\n",
       "      <th>min</th>\n",
       "      <td>0.000000</td>\n",
       "      <td>0.000000</td>\n",
       "      <td>0.000000</td>\n",
       "      <td>0.000000</td>\n",
       "      <td>0.000000</td>\n",
       "      <td>0.000000</td>\n",
       "    </tr>\n",
       "    <tr>\n",
       "      <th>25%</th>\n",
       "      <td>19.000000</td>\n",
       "      <td>0.000000</td>\n",
       "      <td>0.000000</td>\n",
       "      <td>0.000000</td>\n",
       "      <td>0.000000</td>\n",
       "      <td>0.000000</td>\n",
       "    </tr>\n",
       "    <tr>\n",
       "      <th>50%</th>\n",
       "      <td>27.000000</td>\n",
       "      <td>0.000000</td>\n",
       "      <td>0.000000</td>\n",
       "      <td>0.000000</td>\n",
       "      <td>0.000000</td>\n",
       "      <td>0.000000</td>\n",
       "    </tr>\n",
       "    <tr>\n",
       "      <th>75%</th>\n",
       "      <td>38.000000</td>\n",
       "      <td>47.000000</td>\n",
       "      <td>76.000000</td>\n",
       "      <td>27.000000</td>\n",
       "      <td>59.000000</td>\n",
       "      <td>46.000000</td>\n",
       "    </tr>\n",
       "    <tr>\n",
       "      <th>max</th>\n",
       "      <td>79.000000</td>\n",
       "      <td>14327.000000</td>\n",
       "      <td>29813.000000</td>\n",
       "      <td>23492.000000</td>\n",
       "      <td>22408.000000</td>\n",
       "      <td>24133.000000</td>\n",
       "    </tr>\n",
       "  </tbody>\n",
       "</table>\n",
       "</div>"
      ],
      "text/plain": [
       "               Age   RoomService     FoodCourt  ShoppingMall           Spa  \\\n",
       "count  8514.000000   8512.000000   8510.000000   8485.000000   8510.000000   \n",
       "mean     28.827930    224.687617    458.077203    173.729169    311.138778   \n",
       "std      14.489021    666.717663   1611.489240    604.696458   1136.705535   \n",
       "min       0.000000      0.000000      0.000000      0.000000      0.000000   \n",
       "25%      19.000000      0.000000      0.000000      0.000000      0.000000   \n",
       "50%      27.000000      0.000000      0.000000      0.000000      0.000000   \n",
       "75%      38.000000     47.000000     76.000000     27.000000     59.000000   \n",
       "max      79.000000  14327.000000  29813.000000  23492.000000  22408.000000   \n",
       "\n",
       "             VRDeck  \n",
       "count   8505.000000  \n",
       "mean     304.854791  \n",
       "std     1145.717189  \n",
       "min        0.000000  \n",
       "25%        0.000000  \n",
       "50%        0.000000  \n",
       "75%       46.000000  \n",
       "max    24133.000000  "
      ]
     },
     "execution_count": 8,
     "metadata": {},
     "output_type": "execute_result"
    }
   ],
   "source": [
    "df.describe()"
   ]
  },
  {
   "cell_type": "code",
   "execution_count": 9,
   "id": "e9adc31f",
   "metadata": {
    "execution": {
     "iopub.execute_input": "2023-03-31T01:37:54.536890Z",
     "iopub.status.busy": "2023-03-31T01:37:54.535678Z",
     "iopub.status.idle": "2023-03-31T01:37:54.549495Z",
     "shell.execute_reply": "2023-03-31T01:37:54.548456Z"
    },
    "papermill": {
     "duration": 0.031715,
     "end_time": "2023-03-31T01:37:54.552217",
     "exception": false,
     "start_time": "2023-03-31T01:37:54.520502",
     "status": "completed"
    },
    "tags": []
   },
   "outputs": [
    {
     "data": {
      "text/plain": [
       "PassengerId       0\n",
       "HomePlanet      201\n",
       "CryoSleep       217\n",
       "Cabin           199\n",
       "Destination     182\n",
       "Age             179\n",
       "VIP             203\n",
       "RoomService     181\n",
       "FoodCourt       183\n",
       "ShoppingMall    208\n",
       "Spa             183\n",
       "VRDeck          188\n",
       "Name            200\n",
       "Transported       0\n",
       "dtype: int64"
      ]
     },
     "execution_count": 9,
     "metadata": {},
     "output_type": "execute_result"
    }
   ],
   "source": [
    "df.isnull().sum()"
   ]
  },
  {
   "cell_type": "code",
   "execution_count": 10,
   "id": "031cc286",
   "metadata": {
    "execution": {
     "iopub.execute_input": "2023-03-31T01:37:54.582153Z",
     "iopub.status.busy": "2023-03-31T01:37:54.581644Z",
     "iopub.status.idle": "2023-03-31T01:37:55.091760Z",
     "shell.execute_reply": "2023-03-31T01:37:55.090526Z"
    },
    "papermill": {
     "duration": 0.528112,
     "end_time": "2023-03-31T01:37:55.094419",
     "exception": false,
     "start_time": "2023-03-31T01:37:54.566307",
     "status": "completed"
    },
    "tags": []
   },
   "outputs": [
    {
     "data": {
      "text/plain": [
       "<AxesSubplot:>"
      ]
     },
     "execution_count": 10,
     "metadata": {},
     "output_type": "execute_result"
    },
    {
     "data": {
      "image/png": "[encoded data removed]",
      "text/plain": [
       "<Figure size 640x480 with 1 Axes>"
      ]
     },
     "metadata": {},
     "output_type": "display_data"
    }
   ],
   "source": [
    "val.plot()"
   ]
  },
  {
   "cell_type": "code",
   "execution_count": 11,
   "id": "d5fc97d9",
   "metadata": {
    "execution": {
     "iopub.execute_input": "2023-03-31T01:37:55.126736Z",
     "iopub.status.busy": "2023-03-31T01:37:55.125865Z",
     "iopub.status.idle": "2023-03-31T01:37:55.141731Z",
     "shell.execute_reply": "2023-03-31T01:37:55.140345Z"
    },
    "papermill": {
     "duration": 0.03501,
     "end_time": "2023-03-31T01:37:55.144390",
     "exception": false,
     "start_time": "2023-03-31T01:37:55.109380",
     "status": "completed"
    },
    "tags": []
   },
   "outputs": [
    {
     "name": "stdout",
     "output_type": "stream",
     "text": [
      "<class 'pandas.core.frame.DataFrame'>\n",
      "RangeIndex: 4277 entries, 0 to 4276\n",
      "Data columns (total 13 columns):\n",
      " #   Column        Non-Null Count  Dtype  \n",
      "---  ------        --------------  -----  \n",
      " 0   PassengerId   4277 non-null   object \n",
      " 1   HomePlanet    4190 non-null   object \n",
      " 2   CryoSleep     4184 non-null   object \n",
      " 3   Cabin         4177 non-null   object \n",
      " 4   Destination   4185 non-null   object \n",
      " 5   Age           4186 non-null   float64\n",
      " 6   VIP           4184 non-null   object \n",
      " 7   RoomService   4195 non-null   float64\n",
      " 8   FoodCourt     4171 non-null   float64\n",
      " 9   ShoppingMall  4179 non-null   float64\n",
      " 10  Spa           4176 non-null   float64\n",
      " 11  VRDeck        4197 non-null   float64\n",
      " 12  Name          4183 non-null   object \n",
      "dtypes: float64(6), object(7)\n",
      "memory usage: 434.5+ KB\n"
     ]
    }
   ],
   "source": [
    "val.info()"
   ]
  },
  {
   "cell_type": "code",
   "execution_count": 12,
   "id": "041035a3",
   "metadata": {
    "execution": {
     "iopub.execute_input": "2023-03-31T01:37:55.176391Z",
     "iopub.status.busy": "2023-03-31T01:37:55.175977Z",
     "iopub.status.idle": "2023-03-31T01:37:55.187033Z",
     "shell.execute_reply": "2023-03-31T01:37:55.185796Z"
    },
    "papermill": {
     "duration": 0.03013,
     "end_time": "2023-03-31T01:37:55.189483",
     "exception": false,
     "start_time": "2023-03-31T01:37:55.159353",
     "status": "completed"
    },
    "tags": []
   },
   "outputs": [
    {
     "data": {
      "text/plain": [
       "PassengerId       0\n",
       "HomePlanet       87\n",
       "CryoSleep        93\n",
       "Cabin           100\n",
       "Destination      92\n",
       "Age              91\n",
       "VIP              93\n",
       "RoomService      82\n",
       "FoodCourt       106\n",
       "ShoppingMall     98\n",
       "Spa             101\n",
       "VRDeck           80\n",
       "Name             94\n",
       "dtype: int64"
      ]
     },
     "execution_count": 12,
     "metadata": {},
     "output_type": "execute_result"
    }
   ],
   "source": [
    "val.isna().sum()"
   ]
  },
  {
   "cell_type": "code",
   "execution_count": 13,
   "id": "aff0637b",
   "metadata": {
    "execution": {
     "iopub.execute_input": "2023-03-31T01:37:55.221625Z",
     "iopub.status.busy": "2023-03-31T01:37:55.221216Z",
     "iopub.status.idle": "2023-03-31T01:37:55.229073Z",
     "shell.execute_reply": "2023-03-31T01:37:55.227815Z"
    },
    "papermill": {
     "duration": 0.026957,
     "end_time": "2023-03-31T01:37:55.231432",
     "exception": false,
     "start_time": "2023-03-31T01:37:55.204475",
     "status": "completed"
    },
    "tags": []
   },
   "outputs": [
    {
     "data": {
      "text/plain": [
       "8693"
      ]
     },
     "execution_count": 13,
     "metadata": {},
     "output_type": "execute_result"
    }
   ],
   "source": [
    "df[\"Transported\"].count()"
   ]
  },
  {
   "cell_type": "markdown",
   "id": "c7659c70",
   "metadata": {
    "papermill": {
     "duration": 0.014727,
     "end_time": "2023-03-31T01:37:55.261212",
     "exception": false,
     "start_time": "2023-03-31T01:37:55.246485",
     "status": "completed"
    },
    "tags": []
   },
   "source": [
    "# Finding The Correlation Matrix"
   ]
  },
  {
   "cell_type": "code",
   "execution_count": 14,
   "id": "a9184627",
   "metadata": {
    "execution": {
     "iopub.execute_input": "2023-03-31T01:37:55.293605Z",
     "iopub.status.busy": "2023-03-31T01:37:55.292803Z",
     "iopub.status.idle": "2023-03-31T01:37:55.887819Z",
     "shell.execute_reply": "2023-03-31T01:37:55.886544Z"
    },
    "papermill": {
     "duration": 0.614349,
     "end_time": "2023-03-31T01:37:55.890654",
     "exception": false,
     "start_time": "2023-03-31T01:37:55.276305",
     "status": "completed"
    },
    "tags": []
   },
   "outputs": [
    {
     "data": {
      "text/plain": [
       "<AxesSubplot:>"
      ]
     },
     "execution_count": 14,
     "metadata": {},
     "output_type": "execute_result"
    },
    {
     "data": {
      "image/png": "[encoded data removed]",
      "text/plain": [
       "<Figure size 640x480 with 2 Axes>"
      ]
     },
     "metadata": {},
     "output_type": "display_data"
    }
   ],
   "source": [
    "corr_matrix = df.corr()\n",
    "sns.heatmap(corr_matrix, annot = True, cmap=\"coolwarm\")"
   ]
  },
  {
   "cell_type": "code",
   "execution_count": 15,
   "id": "7e9503b7",
   "metadata": {
    "execution": {
     "iopub.execute_input": "2023-03-31T01:37:55.925498Z",
     "iopub.status.busy": "2023-03-31T01:37:55.924802Z",
     "iopub.status.idle": "2023-03-31T01:37:55.932390Z",
     "shell.execute_reply": "2023-03-31T01:37:55.931025Z"
    },
    "papermill": {
     "duration": 0.027868,
     "end_time": "2023-03-31T01:37:55.934849",
     "exception": false,
     "start_time": "2023-03-31T01:37:55.906981",
     "status": "completed"
    },
    "tags": []
   },
   "outputs": [
    {
     "data": {
      "text/plain": [
       "Index(['PassengerId', 'HomePlanet', 'CryoSleep', 'Cabin', 'Destination', 'Age',\n",
       "       'VIP', 'RoomService', 'FoodCourt', 'ShoppingMall', 'Spa', 'VRDeck',\n",
       "       'Name', 'Transported'],\n",
       "      dtype='object')"
      ]
     },
     "execution_count": 15,
     "metadata": {},
     "output_type": "execute_result"
    }
   ],
   "source": [
    "df.columns"
   ]
  },
  {
   "cell_type": "markdown",
   "id": "f14ab86c",
   "metadata": {
    "papermill": {
     "duration": 0.016334,
     "end_time": "2023-03-31T01:37:55.967567",
     "exception": false,
     "start_time": "2023-03-31T01:37:55.951233",
     "status": "completed"
    },
    "tags": []
   },
   "source": [
    "## Extracting cabin number side and Deck"
   ]
  },
  {
   "cell_type": "code",
   "execution_count": 16,
   "id": "28552d04",
   "metadata": {
    "execution": {
     "iopub.execute_input": "2023-03-31T01:37:56.003287Z",
     "iopub.status.busy": "2023-03-31T01:37:56.002544Z",
     "iopub.status.idle": "2023-03-31T01:37:56.058506Z",
     "shell.execute_reply": "2023-03-31T01:37:56.057301Z"
    },
    "papermill": {
     "duration": 0.077629,
     "end_time": "2023-03-31T01:37:56.061430",
     "exception": false,
     "start_time": "2023-03-31T01:37:55.983801",
     "status": "completed"
    },
    "tags": []
   },
   "outputs": [],
   "source": [
    "df['CabinDeck'] = df['Cabin'].str.split('/', expand=True)[0]\n",
    "df['CabinNum']  = df['Cabin'].str.split('/', expand=True)[1]\n",
    "df['CabinSide'] = df['Cabin'].str.split('/', expand=True)[2]\n",
    "\n",
    "df.drop(columns = ['Cabin'], inplace = True)"
   ]
  },
  {
   "cell_type": "code",
   "execution_count": 17,
   "id": "ae7aedfb",
   "metadata": {
    "execution": {
     "iopub.execute_input": "2023-03-31T01:37:56.096880Z",
     "iopub.status.busy": "2023-03-31T01:37:56.095433Z",
     "iopub.status.idle": "2023-03-31T01:37:56.118773Z",
     "shell.execute_reply": "2023-03-31T01:37:56.117444Z"
    },
    "papermill": {
     "duration": 0.043627,
     "end_time": "2023-03-31T01:37:56.121362",
     "exception": false,
     "start_time": "2023-03-31T01:37:56.077735",
     "status": "completed"
    },
    "tags": []
   },
   "outputs": [
    {
     "data": {
      "text/html": [
       "<div>\n",
       "<style scoped>\n",
       "    .dataframe tbody tr th:only-of-type {\n",
       "        vertical-align: middle;\n",
       "    }\n",
       "\n",
       "    .dataframe tbody tr th {\n",
       "        vertical-align: top;\n",
       "    }\n",
       "\n",
       "    .dataframe thead th {\n",
       "        text-align: right;\n",
       "    }\n",
       "</style>\n",
       "<table border=\"1\" class=\"dataframe\">\n",
       "  <thead>\n",
       "    <tr style=\"text-align: right;\">\n",
       "      <th></th>\n",
       "      <th>PassengerId</th>\n",
       "      <th>HomePlanet</th>\n",
       "      <th>CryoSleep</th>\n",
       "      <th>Destination</th>\n",
       "      <th>Age</th>\n",
       "      <th>VIP</th>\n",
       "      <th>RoomService</th>\n",
       "      <th>FoodCourt</th>\n",
       "      <th>ShoppingMall</th>\n",
       "      <th>Spa</th>\n",
       "      <th>VRDeck</th>\n",
       "      <th>Name</th>\n",
       "      <th>Transported</th>\n",
       "      <th>CabinDeck</th>\n",
       "      <th>CabinNum</th>\n",
       "      <th>CabinSide</th>\n",
       "    </tr>\n",
       "  </thead>\n",
       "  <tbody>\n",
       "    <tr>\n",
       "      <th>0</th>\n",
       "      <td>0001_01</td>\n",
       "      <td>Europa</td>\n",
       "      <td>False</td>\n",
       "      <td>TRAPPIST-1e</td>\n",
       "      <td>39.0</td>\n",
       "      <td>False</td>\n",
       "      <td>0.0</td>\n",
       "      <td>0.0</td>\n",
       "      <td>0.0</td>\n",
       "      <td>0.0</td>\n",
       "      <td>0.0</td>\n",
       "      <td>Maham Ofracculy</td>\n",
       "      <td>False</td>\n",
       "      <td>B</td>\n",
       "      <td>0</td>\n",
       "      <td>P</td>\n",
       "    </tr>\n",
       "    <tr>\n",
       "      <th>1</th>\n",
       "      <td>0002_01</td>\n",
       "      <td>Earth</td>\n",
       "      <td>False</td>\n",
       "      <td>TRAPPIST-1e</td>\n",
       "      <td>24.0</td>\n",
       "      <td>False</td>\n",
       "      <td>109.0</td>\n",
       "      <td>9.0</td>\n",
       "      <td>25.0</td>\n",
       "      <td>549.0</td>\n",
       "      <td>44.0</td>\n",
       "      <td>Juanna Vines</td>\n",
       "      <td>True</td>\n",
       "      <td>F</td>\n",
       "      <td>0</td>\n",
       "      <td>S</td>\n",
       "    </tr>\n",
       "    <tr>\n",
       "      <th>2</th>\n",
       "      <td>0003_01</td>\n",
       "      <td>Europa</td>\n",
       "      <td>False</td>\n",
       "      <td>TRAPPIST-1e</td>\n",
       "      <td>58.0</td>\n",
       "      <td>True</td>\n",
       "      <td>43.0</td>\n",
       "      <td>3576.0</td>\n",
       "      <td>0.0</td>\n",
       "      <td>6715.0</td>\n",
       "      <td>49.0</td>\n",
       "      <td>Altark Susent</td>\n",
       "      <td>False</td>\n",
       "      <td>A</td>\n",
       "      <td>0</td>\n",
       "      <td>S</td>\n",
       "    </tr>\n",
       "    <tr>\n",
       "      <th>3</th>\n",
       "      <td>0003_02</td>\n",
       "      <td>Europa</td>\n",
       "      <td>False</td>\n",
       "      <td>TRAPPIST-1e</td>\n",
       "      <td>33.0</td>\n",
       "      <td>False</td>\n",
       "      <td>0.0</td>\n",
       "      <td>1283.0</td>\n",
       "      <td>371.0</td>\n",
       "      <td>3329.0</td>\n",
       "      <td>193.0</td>\n",
       "      <td>Solam Susent</td>\n",
       "      <td>False</td>\n",
       "      <td>A</td>\n",
       "      <td>0</td>\n",
       "      <td>S</td>\n",
       "    </tr>\n",
       "    <tr>\n",
       "      <th>4</th>\n",
       "      <td>0004_01</td>\n",
       "      <td>Earth</td>\n",
       "      <td>False</td>\n",
       "      <td>TRAPPIST-1e</td>\n",
       "      <td>16.0</td>\n",
       "      <td>False</td>\n",
       "      <td>303.0</td>\n",
       "      <td>70.0</td>\n",
       "      <td>151.0</td>\n",
       "      <td>565.0</td>\n",
       "      <td>2.0</td>\n",
       "      <td>Willy Santantines</td>\n",
       "      <td>True</td>\n",
       "      <td>F</td>\n",
       "      <td>1</td>\n",
       "      <td>S</td>\n",
       "    </tr>\n",
       "  </tbody>\n",
       "</table>\n",
       "</div>"
      ],
      "text/plain": [
       "  PassengerId HomePlanet CryoSleep  Destination   Age    VIP  RoomService  \\\n",
       "0     0001_01     Europa     False  TRAPPIST-1e  39.0  False          0.0   \n",
       "1     0002_01      Earth     False  TRAPPIST-1e  24.0  False        109.0   \n",
       "2     0003_01     Europa     False  TRAPPIST-1e  58.0   True         43.0   \n",
       "3     0003_02     Europa     False  TRAPPIST-1e  33.0  False          0.0   \n",
       "4     0004_01      Earth     False  TRAPPIST-1e  16.0  False        303.0   \n",
       "\n",
       "   FoodCourt  ShoppingMall     Spa  VRDeck               Name  Transported  \\\n",
       "0        0.0           0.0     0.0     0.0    Maham Ofracculy        False   \n",
       "1        9.0          25.0   549.0    44.0       Juanna Vines         True   \n",
       "2     3576.0           0.0  6715.0    49.0      Altark Susent        False   \n",
       "3     1283.0         371.0  3329.0   193.0       Solam Susent        False   \n",
       "4       70.0         151.0   565.0     2.0  Willy Santantines         True   \n",
       "\n",
       "  CabinDeck CabinNum CabinSide  \n",
       "0         B        0         P  \n",
       "1         F        0         S  \n",
       "2         A        0         S  \n",
       "3         A        0         S  \n",
       "4         F        1         S  "
      ]
     },
     "execution_count": 17,
     "metadata": {},
     "output_type": "execute_result"
    }
   ],
   "source": [
    "df.head()"
   ]
  },
  {
   "cell_type": "code",
   "execution_count": 18,
   "id": "2ba10b94",
   "metadata": {
    "execution": {
     "iopub.execute_input": "2023-03-31T01:37:56.156695Z",
     "iopub.status.busy": "2023-03-31T01:37:56.155623Z",
     "iopub.status.idle": "2023-03-31T01:37:56.313458Z",
     "shell.execute_reply": "2023-03-31T01:37:56.312169Z"
    },
    "papermill": {
     "duration": 0.178551,
     "end_time": "2023-03-31T01:37:56.316322",
     "exception": false,
     "start_time": "2023-03-31T01:37:56.137771",
     "status": "completed"
    },
    "tags": []
   },
   "outputs": [],
   "source": [
    "val['CabinDeck'] = val['Cabin'].str.split('/', expand=True)[0]\n",
    "val['CabinNum']  = val['Cabin'].str.split('/', expand=True)[1]\n",
    "val['CabinSide'] = val['Cabin'].str.split('/', expand=True)[2]\n",
    "\n",
    "val.drop(columns = ['Cabin'], inplace = True)"
   ]
  },
  {
   "cell_type": "code",
   "execution_count": 19,
   "id": "410bfccd",
   "metadata": {
    "execution": {
     "iopub.execute_input": "2023-03-31T01:37:56.351878Z",
     "iopub.status.busy": "2023-03-31T01:37:56.350655Z",
     "iopub.status.idle": "2023-03-31T01:37:56.360128Z",
     "shell.execute_reply": "2023-03-31T01:37:56.358949Z"
    },
    "papermill": {
     "duration": 0.030031,
     "end_time": "2023-03-31T01:37:56.362891",
     "exception": false,
     "start_time": "2023-03-31T01:37:56.332860",
     "status": "completed"
    },
    "tags": []
   },
   "outputs": [],
   "source": [
    "df.drop(columns=[\"Name\",\"PassengerId\"], inplace=True)\n",
    "val.drop(columns=[\"Name\",\"PassengerId\"], inplace=True)"
   ]
  },
  {
   "cell_type": "code",
   "execution_count": 20,
   "id": "fb27aac4",
   "metadata": {
    "execution": {
     "iopub.execute_input": "2023-03-31T01:37:56.398203Z",
     "iopub.status.busy": "2023-03-31T01:37:56.397384Z",
     "iopub.status.idle": "2023-03-31T01:37:56.417224Z",
     "shell.execute_reply": "2023-03-31T01:37:56.415908Z"
    },
    "papermill": {
     "duration": 0.040565,
     "end_time": "2023-03-31T01:37:56.419894",
     "exception": false,
     "start_time": "2023-03-31T01:37:56.379329",
     "status": "completed"
    },
    "tags": []
   },
   "outputs": [
    {
     "data": {
      "text/html": [
       "<div>\n",
       "<style scoped>\n",
       "    .dataframe tbody tr th:only-of-type {\n",
       "        vertical-align: middle;\n",
       "    }\n",
       "\n",
       "    .dataframe tbody tr th {\n",
       "        vertical-align: top;\n",
       "    }\n",
       "\n",
       "    .dataframe thead th {\n",
       "        text-align: right;\n",
       "    }\n",
       "</style>\n",
       "<table border=\"1\" class=\"dataframe\">\n",
       "  <thead>\n",
       "    <tr style=\"text-align: right;\">\n",
       "      <th></th>\n",
       "      <th>HomePlanet</th>\n",
       "      <th>CryoSleep</th>\n",
       "      <th>Destination</th>\n",
       "      <th>Age</th>\n",
       "      <th>VIP</th>\n",
       "      <th>RoomService</th>\n",
       "      <th>FoodCourt</th>\n",
       "      <th>ShoppingMall</th>\n",
       "      <th>Spa</th>\n",
       "      <th>VRDeck</th>\n",
       "      <th>Transported</th>\n",
       "      <th>CabinDeck</th>\n",
       "      <th>CabinNum</th>\n",
       "      <th>CabinSide</th>\n",
       "    </tr>\n",
       "  </thead>\n",
       "  <tbody>\n",
       "    <tr>\n",
       "      <th>0</th>\n",
       "      <td>Europa</td>\n",
       "      <td>False</td>\n",
       "      <td>TRAPPIST-1e</td>\n",
       "      <td>39.0</td>\n",
       "      <td>False</td>\n",
       "      <td>0.0</td>\n",
       "      <td>0.0</td>\n",
       "      <td>0.0</td>\n",
       "      <td>0.0</td>\n",
       "      <td>0.0</td>\n",
       "      <td>False</td>\n",
       "      <td>B</td>\n",
       "      <td>0</td>\n",
       "      <td>P</td>\n",
       "    </tr>\n",
       "    <tr>\n",
       "      <th>1</th>\n",
       "      <td>Earth</td>\n",
       "      <td>False</td>\n",
       "      <td>TRAPPIST-1e</td>\n",
       "      <td>24.0</td>\n",
       "      <td>False</td>\n",
       "      <td>109.0</td>\n",
       "      <td>9.0</td>\n",
       "      <td>25.0</td>\n",
       "      <td>549.0</td>\n",
       "      <td>44.0</td>\n",
       "      <td>True</td>\n",
       "      <td>F</td>\n",
       "      <td>0</td>\n",
       "      <td>S</td>\n",
       "    </tr>\n",
       "    <tr>\n",
       "      <th>2</th>\n",
       "      <td>Europa</td>\n",
       "      <td>False</td>\n",
       "      <td>TRAPPIST-1e</td>\n",
       "      <td>58.0</td>\n",
       "      <td>True</td>\n",
       "      <td>43.0</td>\n",
       "      <td>3576.0</td>\n",
       "      <td>0.0</td>\n",
       "      <td>6715.0</td>\n",
       "      <td>49.0</td>\n",
       "      <td>False</td>\n",
       "      <td>A</td>\n",
       "      <td>0</td>\n",
       "      <td>S</td>\n",
       "    </tr>\n",
       "  </tbody>\n",
       "</table>\n",
       "</div>"
      ],
      "text/plain": [
       "  HomePlanet CryoSleep  Destination   Age    VIP  RoomService  FoodCourt  \\\n",
       "0     Europa     False  TRAPPIST-1e  39.0  False          0.0        0.0   \n",
       "1      Earth     False  TRAPPIST-1e  24.0  False        109.0        9.0   \n",
       "2     Europa     False  TRAPPIST-1e  58.0   True         43.0     3576.0   \n",
       "\n",
       "   ShoppingMall     Spa  VRDeck  Transported CabinDeck CabinNum CabinSide  \n",
       "0           0.0     0.0     0.0        False         B        0         P  \n",
       "1          25.0   549.0    44.0         True         F        0         S  \n",
       "2           0.0  6715.0    49.0        False         A        0         S  "
      ]
     },
     "execution_count": 20,
     "metadata": {},
     "output_type": "execute_result"
    }
   ],
   "source": [
    "df.head(3)"
   ]
  },
  {
   "cell_type": "code",
   "execution_count": 21,
   "id": "fa916967",
   "metadata": {
    "execution": {
     "iopub.execute_input": "2023-03-31T01:37:56.455475Z",
     "iopub.status.busy": "2023-03-31T01:37:56.455073Z",
     "iopub.status.idle": "2023-03-31T01:37:56.475132Z",
     "shell.execute_reply": "2023-03-31T01:37:56.473831Z"
    },
    "papermill": {
     "duration": 0.040915,
     "end_time": "2023-03-31T01:37:56.477638",
     "exception": false,
     "start_time": "2023-03-31T01:37:56.436723",
     "status": "completed"
    },
    "tags": []
   },
   "outputs": [
    {
     "data": {
      "text/html": [
       "<div>\n",
       "<style scoped>\n",
       "    .dataframe tbody tr th:only-of-type {\n",
       "        vertical-align: middle;\n",
       "    }\n",
       "\n",
       "    .dataframe tbody tr th {\n",
       "        vertical-align: top;\n",
       "    }\n",
       "\n",
       "    .dataframe thead th {\n",
       "        text-align: right;\n",
       "    }\n",
       "</style>\n",
       "<table border=\"1\" class=\"dataframe\">\n",
       "  <thead>\n",
       "    <tr style=\"text-align: right;\">\n",
       "      <th></th>\n",
       "      <th>HomePlanet</th>\n",
       "      <th>CryoSleep</th>\n",
       "      <th>Destination</th>\n",
       "      <th>Age</th>\n",
       "      <th>VIP</th>\n",
       "      <th>RoomService</th>\n",
       "      <th>FoodCourt</th>\n",
       "      <th>ShoppingMall</th>\n",
       "      <th>Spa</th>\n",
       "      <th>VRDeck</th>\n",
       "      <th>CabinDeck</th>\n",
       "      <th>CabinNum</th>\n",
       "      <th>CabinSide</th>\n",
       "    </tr>\n",
       "  </thead>\n",
       "  <tbody>\n",
       "    <tr>\n",
       "      <th>0</th>\n",
       "      <td>Earth</td>\n",
       "      <td>True</td>\n",
       "      <td>TRAPPIST-1e</td>\n",
       "      <td>27.0</td>\n",
       "      <td>False</td>\n",
       "      <td>0.0</td>\n",
       "      <td>0.0</td>\n",
       "      <td>0.0</td>\n",
       "      <td>0.0</td>\n",
       "      <td>0.0</td>\n",
       "      <td>G</td>\n",
       "      <td>3</td>\n",
       "      <td>S</td>\n",
       "    </tr>\n",
       "    <tr>\n",
       "      <th>1</th>\n",
       "      <td>Earth</td>\n",
       "      <td>False</td>\n",
       "      <td>TRAPPIST-1e</td>\n",
       "      <td>19.0</td>\n",
       "      <td>False</td>\n",
       "      <td>0.0</td>\n",
       "      <td>9.0</td>\n",
       "      <td>0.0</td>\n",
       "      <td>2823.0</td>\n",
       "      <td>0.0</td>\n",
       "      <td>F</td>\n",
       "      <td>4</td>\n",
       "      <td>S</td>\n",
       "    </tr>\n",
       "    <tr>\n",
       "      <th>2</th>\n",
       "      <td>Europa</td>\n",
       "      <td>True</td>\n",
       "      <td>55 Cancri e</td>\n",
       "      <td>31.0</td>\n",
       "      <td>False</td>\n",
       "      <td>0.0</td>\n",
       "      <td>0.0</td>\n",
       "      <td>0.0</td>\n",
       "      <td>0.0</td>\n",
       "      <td>0.0</td>\n",
       "      <td>C</td>\n",
       "      <td>0</td>\n",
       "      <td>S</td>\n",
       "    </tr>\n",
       "    <tr>\n",
       "      <th>3</th>\n",
       "      <td>Europa</td>\n",
       "      <td>False</td>\n",
       "      <td>TRAPPIST-1e</td>\n",
       "      <td>38.0</td>\n",
       "      <td>False</td>\n",
       "      <td>0.0</td>\n",
       "      <td>6652.0</td>\n",
       "      <td>0.0</td>\n",
       "      <td>181.0</td>\n",
       "      <td>585.0</td>\n",
       "      <td>C</td>\n",
       "      <td>1</td>\n",
       "      <td>S</td>\n",
       "    </tr>\n",
       "    <tr>\n",
       "      <th>4</th>\n",
       "      <td>Earth</td>\n",
       "      <td>False</td>\n",
       "      <td>TRAPPIST-1e</td>\n",
       "      <td>20.0</td>\n",
       "      <td>False</td>\n",
       "      <td>10.0</td>\n",
       "      <td>0.0</td>\n",
       "      <td>635.0</td>\n",
       "      <td>0.0</td>\n",
       "      <td>0.0</td>\n",
       "      <td>F</td>\n",
       "      <td>5</td>\n",
       "      <td>S</td>\n",
       "    </tr>\n",
       "  </tbody>\n",
       "</table>\n",
       "</div>"
      ],
      "text/plain": [
       "  HomePlanet CryoSleep  Destination   Age    VIP  RoomService  FoodCourt  \\\n",
       "0      Earth      True  TRAPPIST-1e  27.0  False          0.0        0.0   \n",
       "1      Earth     False  TRAPPIST-1e  19.0  False          0.0        9.0   \n",
       "2     Europa      True  55 Cancri e  31.0  False          0.0        0.0   \n",
       "3     Europa     False  TRAPPIST-1e  38.0  False          0.0     6652.0   \n",
       "4      Earth     False  TRAPPIST-1e  20.0  False         10.0        0.0   \n",
       "\n",
       "   ShoppingMall     Spa  VRDeck CabinDeck CabinNum CabinSide  \n",
       "0           0.0     0.0     0.0         G        3         S  \n",
       "1           0.0  2823.0     0.0         F        4         S  \n",
       "2           0.0     0.0     0.0         C        0         S  \n",
       "3           0.0   181.0   585.0         C        1         S  \n",
       "4         635.0     0.0     0.0         F        5         S  "
      ]
     },
     "execution_count": 21,
     "metadata": {},
     "output_type": "execute_result"
    }
   ],
   "source": [
    "val.head()"
   ]
  },
  {
   "cell_type": "markdown",
   "id": "dfecb124",
   "metadata": {
    "papermill": {
     "duration": 0.016751,
     "end_time": "2023-03-31T01:37:56.511493",
     "exception": false,
     "start_time": "2023-03-31T01:37:56.494742",
     "status": "completed"
    },
    "tags": []
   },
   "source": [
    "## Filling null values in these catagorical columns"
   ]
  },
  {
   "cell_type": "code",
   "execution_count": 22,
   "id": "8f4c89e5",
   "metadata": {
    "execution": {
     "iopub.execute_input": "2023-03-31T01:37:56.547761Z",
     "iopub.status.busy": "2023-03-31T01:37:56.547363Z",
     "iopub.status.idle": "2023-03-31T01:37:56.574309Z",
     "shell.execute_reply": "2023-03-31T01:37:56.573226Z"
    },
    "papermill": {
     "duration": 0.048143,
     "end_time": "2023-03-31T01:37:56.576882",
     "exception": false,
     "start_time": "2023-03-31T01:37:56.528739",
     "status": "completed"
    },
    "tags": []
   },
   "outputs": [],
   "source": [
    "cat_columns = ['HomePlanet','CryoSleep','Destination','VIP','CabinDeck', 'CabinNum','CabinSide']\n",
    "imp = SimpleImputer(strategy=\"most_frequent\")\n",
    "df[cat_columns] = imp.fit_transform(df[cat_columns])\n",
    "val[cat_columns] = imp.transform(val[cat_columns])"
   ]
  },
  {
   "cell_type": "markdown",
   "id": "4e965728",
   "metadata": {
    "papermill": {
     "duration": 0.016567,
     "end_time": "2023-03-31T01:37:56.610365",
     "exception": false,
     "start_time": "2023-03-31T01:37:56.593798",
     "status": "completed"
    },
    "tags": []
   },
   "source": [
    "## Filling null values in these Numerical columns"
   ]
  },
  {
   "cell_type": "code",
   "execution_count": 23,
   "id": "82fb3e42",
   "metadata": {
    "execution": {
     "iopub.execute_input": "2023-03-31T01:37:56.646258Z",
     "iopub.status.busy": "2023-03-31T01:37:56.645799Z",
     "iopub.status.idle": "2023-03-31T01:37:56.665325Z",
     "shell.execute_reply": "2023-03-31T01:37:56.664195Z"
    },
    "papermill": {
     "duration": 0.040942,
     "end_time": "2023-03-31T01:37:56.668105",
     "exception": false,
     "start_time": "2023-03-31T01:37:56.627163",
     "status": "completed"
    },
    "tags": []
   },
   "outputs": [],
   "source": [
    "num_columns = ['Age','RoomService','FoodCourt','ShoppingMall','Spa','VRDeck']\n",
    "imp = SimpleImputer(strategy=\"median\")\n",
    "df[num_columns] = imp.fit_transform(df[num_columns])\n",
    "val[num_columns] = imp.transform(val[num_columns])"
   ]
  },
  {
   "cell_type": "code",
   "execution_count": 24,
   "id": "f54bc126",
   "metadata": {
    "execution": {
     "iopub.execute_input": "2023-03-31T01:37:56.704603Z",
     "iopub.status.busy": "2023-03-31T01:37:56.704146Z",
     "iopub.status.idle": "2023-03-31T01:37:56.721823Z",
     "shell.execute_reply": "2023-03-31T01:37:56.720126Z"
    },
    "papermill": {
     "duration": 0.038881,
     "end_time": "2023-03-31T01:37:56.724362",
     "exception": false,
     "start_time": "2023-03-31T01:37:56.685481",
     "status": "completed"
    },
    "tags": []
   },
   "outputs": [
    {
     "name": "stdout",
     "output_type": "stream",
     "text": [
      "<class 'pandas.core.frame.DataFrame'>\n",
      "RangeIndex: 8693 entries, 0 to 8692\n",
      "Data columns (total 14 columns):\n",
      " #   Column        Non-Null Count  Dtype  \n",
      "---  ------        --------------  -----  \n",
      " 0   HomePlanet    8693 non-null   object \n",
      " 1   CryoSleep     8693 non-null   object \n",
      " 2   Destination   8693 non-null   object \n",
      " 3   Age           8693 non-null   float64\n",
      " 4   VIP           8693 non-null   object \n",
      " 5   RoomService   8693 non-null   float64\n",
      " 6   FoodCourt     8693 non-null   float64\n",
      " 7   ShoppingMall  8693 non-null   float64\n",
      " 8   Spa           8693 non-null   float64\n",
      " 9   VRDeck        8693 non-null   float64\n",
      " 10  Transported   8693 non-null   bool   \n",
      " 11  CabinDeck     8693 non-null   object \n",
      " 12  CabinNum      8693 non-null   object \n",
      " 13  CabinSide     8693 non-null   object \n",
      "dtypes: bool(1), float64(6), object(7)\n",
      "memory usage: 891.5+ KB\n"
     ]
    }
   ],
   "source": [
    "df.info()"
   ]
  },
  {
   "cell_type": "markdown",
   "id": "5196a40d",
   "metadata": {
    "papermill": {
     "duration": 0.017115,
     "end_time": "2023-03-31T01:37:56.758668",
     "exception": false,
     "start_time": "2023-03-31T01:37:56.741553",
     "status": "completed"
    },
    "tags": []
   },
   "source": [
    "## Converting Categorical values to numerical values"
   ]
  },
  {
   "cell_type": "code",
   "execution_count": 25,
   "id": "c391e388",
   "metadata": {
    "execution": {
     "iopub.execute_input": "2023-03-31T01:37:56.795364Z",
     "iopub.status.busy": "2023-03-31T01:37:56.794155Z",
     "iopub.status.idle": "2023-03-31T01:37:56.840616Z",
     "shell.execute_reply": "2023-03-31T01:37:56.839193Z"
    },
    "papermill": {
     "duration": 0.067782,
     "end_time": "2023-03-31T01:37:56.843492",
     "exception": false,
     "start_time": "2023-03-31T01:37:56.775710",
     "status": "completed"
    },
    "tags": []
   },
   "outputs": [],
   "source": [
    "from sklearn.preprocessing import LabelEncoder\n",
    "le = LabelEncoder()\n",
    "df[cat_columns] = df[cat_columns].apply(le.fit_transform)\n",
    "val[cat_columns] = val[cat_columns].apply(le.fit_transform)"
   ]
  },
  {
   "cell_type": "code",
   "execution_count": 26,
   "id": "96da7c90",
   "metadata": {
    "execution": {
     "iopub.execute_input": "2023-03-31T01:37:56.882012Z",
     "iopub.status.busy": "2023-03-31T01:37:56.881551Z",
     "iopub.status.idle": "2023-03-31T01:37:56.900886Z",
     "shell.execute_reply": "2023-03-31T01:37:56.899635Z"
    },
    "papermill": {
     "duration": 0.04261,
     "end_time": "2023-03-31T01:37:56.903465",
     "exception": false,
     "start_time": "2023-03-31T01:37:56.860855",
     "status": "completed"
    },
    "tags": []
   },
   "outputs": [
    {
     "data": {
      "text/html": [
       "<div>\n",
       "<style scoped>\n",
       "    .dataframe tbody tr th:only-of-type {\n",
       "        vertical-align: middle;\n",
       "    }\n",
       "\n",
       "    .dataframe tbody tr th {\n",
       "        vertical-align: top;\n",
       "    }\n",
       "\n",
       "    .dataframe thead th {\n",
       "        text-align: right;\n",
       "    }\n",
       "</style>\n",
       "<table border=\"1\" class=\"dataframe\">\n",
       "  <thead>\n",
       "    <tr style=\"text-align: right;\">\n",
       "      <th></th>\n",
       "      <th>HomePlanet</th>\n",
       "      <th>CryoSleep</th>\n",
       "      <th>Destination</th>\n",
       "      <th>Age</th>\n",
       "      <th>VIP</th>\n",
       "      <th>RoomService</th>\n",
       "      <th>FoodCourt</th>\n",
       "      <th>ShoppingMall</th>\n",
       "      <th>Spa</th>\n",
       "      <th>VRDeck</th>\n",
       "      <th>Transported</th>\n",
       "      <th>CabinDeck</th>\n",
       "      <th>CabinNum</th>\n",
       "      <th>CabinSide</th>\n",
       "    </tr>\n",
       "  </thead>\n",
       "  <tbody>\n",
       "    <tr>\n",
       "      <th>0</th>\n",
       "      <td>1</td>\n",
       "      <td>0</td>\n",
       "      <td>2</td>\n",
       "      <td>39.0</td>\n",
       "      <td>0</td>\n",
       "      <td>0.0</td>\n",
       "      <td>0.0</td>\n",
       "      <td>0.0</td>\n",
       "      <td>0.0</td>\n",
       "      <td>0.0</td>\n",
       "      <td>False</td>\n",
       "      <td>1</td>\n",
       "      <td>0</td>\n",
       "      <td>0</td>\n",
       "    </tr>\n",
       "    <tr>\n",
       "      <th>1</th>\n",
       "      <td>0</td>\n",
       "      <td>0</td>\n",
       "      <td>2</td>\n",
       "      <td>24.0</td>\n",
       "      <td>0</td>\n",
       "      <td>109.0</td>\n",
       "      <td>9.0</td>\n",
       "      <td>25.0</td>\n",
       "      <td>549.0</td>\n",
       "      <td>44.0</td>\n",
       "      <td>True</td>\n",
       "      <td>5</td>\n",
       "      <td>0</td>\n",
       "      <td>1</td>\n",
       "    </tr>\n",
       "    <tr>\n",
       "      <th>2</th>\n",
       "      <td>1</td>\n",
       "      <td>0</td>\n",
       "      <td>2</td>\n",
       "      <td>58.0</td>\n",
       "      <td>1</td>\n",
       "      <td>43.0</td>\n",
       "      <td>3576.0</td>\n",
       "      <td>0.0</td>\n",
       "      <td>6715.0</td>\n",
       "      <td>49.0</td>\n",
       "      <td>False</td>\n",
       "      <td>0</td>\n",
       "      <td>0</td>\n",
       "      <td>1</td>\n",
       "    </tr>\n",
       "  </tbody>\n",
       "</table>\n",
       "</div>"
      ],
      "text/plain": [
       "   HomePlanet  CryoSleep  Destination   Age  VIP  RoomService  FoodCourt  \\\n",
       "0           1          0            2  39.0    0          0.0        0.0   \n",
       "1           0          0            2  24.0    0        109.0        9.0   \n",
       "2           1          0            2  58.0    1         43.0     3576.0   \n",
       "\n",
       "   ShoppingMall     Spa  VRDeck  Transported  CabinDeck  CabinNum  CabinSide  \n",
       "0           0.0     0.0     0.0        False          1         0          0  \n",
       "1          25.0   549.0    44.0         True          5         0          1  \n",
       "2           0.0  6715.0    49.0        False          0         0          1  "
      ]
     },
     "execution_count": 26,
     "metadata": {},
     "output_type": "execute_result"
    }
   ],
   "source": [
    "df.head(3)"
   ]
  },
  {
   "cell_type": "code",
   "execution_count": 27,
   "id": "a2ec9d04",
   "metadata": {
    "execution": {
     "iopub.execute_input": "2023-03-31T01:37:56.940355Z",
     "iopub.status.busy": "2023-03-31T01:37:56.939951Z",
     "iopub.status.idle": "2023-03-31T01:37:56.957394Z",
     "shell.execute_reply": "2023-03-31T01:37:56.956253Z"
    },
    "papermill": {
     "duration": 0.039049,
     "end_time": "2023-03-31T01:37:56.959840",
     "exception": false,
     "start_time": "2023-03-31T01:37:56.920791",
     "status": "completed"
    },
    "tags": []
   },
   "outputs": [
    {
     "data": {
      "text/html": [
       "<div>\n",
       "<style scoped>\n",
       "    .dataframe tbody tr th:only-of-type {\n",
       "        vertical-align: middle;\n",
       "    }\n",
       "\n",
       "    .dataframe tbody tr th {\n",
       "        vertical-align: top;\n",
       "    }\n",
       "\n",
       "    .dataframe thead th {\n",
       "        text-align: right;\n",
       "    }\n",
       "</style>\n",
       "<table border=\"1\" class=\"dataframe\">\n",
       "  <thead>\n",
       "    <tr style=\"text-align: right;\">\n",
       "      <th></th>\n",
       "      <th>HomePlanet</th>\n",
       "      <th>CryoSleep</th>\n",
       "      <th>Destination</th>\n",
       "      <th>Age</th>\n",
       "      <th>VIP</th>\n",
       "      <th>RoomService</th>\n",
       "      <th>FoodCourt</th>\n",
       "      <th>ShoppingMall</th>\n",
       "      <th>Spa</th>\n",
       "      <th>VRDeck</th>\n",
       "      <th>CabinDeck</th>\n",
       "      <th>CabinNum</th>\n",
       "      <th>CabinSide</th>\n",
       "    </tr>\n",
       "  </thead>\n",
       "  <tbody>\n",
       "    <tr>\n",
       "      <th>0</th>\n",
       "      <td>0</td>\n",
       "      <td>1</td>\n",
       "      <td>2</td>\n",
       "      <td>27.0</td>\n",
       "      <td>0</td>\n",
       "      <td>0.0</td>\n",
       "      <td>0.0</td>\n",
       "      <td>0.0</td>\n",
       "      <td>0.0</td>\n",
       "      <td>0.0</td>\n",
       "      <td>6</td>\n",
       "      <td>820</td>\n",
       "      <td>1</td>\n",
       "    </tr>\n",
       "    <tr>\n",
       "      <th>1</th>\n",
       "      <td>0</td>\n",
       "      <td>0</td>\n",
       "      <td>2</td>\n",
       "      <td>19.0</td>\n",
       "      <td>0</td>\n",
       "      <td>0.0</td>\n",
       "      <td>9.0</td>\n",
       "      <td>0.0</td>\n",
       "      <td>2823.0</td>\n",
       "      <td>0.0</td>\n",
       "      <td>5</td>\n",
       "      <td>927</td>\n",
       "      <td>1</td>\n",
       "    </tr>\n",
       "    <tr>\n",
       "      <th>2</th>\n",
       "      <td>1</td>\n",
       "      <td>1</td>\n",
       "      <td>0</td>\n",
       "      <td>31.0</td>\n",
       "      <td>0</td>\n",
       "      <td>0.0</td>\n",
       "      <td>0.0</td>\n",
       "      <td>0.0</td>\n",
       "      <td>0.0</td>\n",
       "      <td>0.0</td>\n",
       "      <td>2</td>\n",
       "      <td>0</td>\n",
       "      <td>1</td>\n",
       "    </tr>\n",
       "  </tbody>\n",
       "</table>\n",
       "</div>"
      ],
      "text/plain": [
       "   HomePlanet  CryoSleep  Destination   Age  VIP  RoomService  FoodCourt  \\\n",
       "0           0          1            2  27.0    0          0.0        0.0   \n",
       "1           0          0            2  19.0    0          0.0        9.0   \n",
       "2           1          1            0  31.0    0          0.0        0.0   \n",
       "\n",
       "   ShoppingMall     Spa  VRDeck  CabinDeck  CabinNum  CabinSide  \n",
       "0           0.0     0.0     0.0          6       820          1  \n",
       "1           0.0  2823.0     0.0          5       927          1  \n",
       "2           0.0     0.0     0.0          2         0          1  "
      ]
     },
     "execution_count": 27,
     "metadata": {},
     "output_type": "execute_result"
    }
   ],
   "source": [
    "val.head(3)"
   ]
  },
  {
   "cell_type": "code",
   "execution_count": 28,
   "id": "b2845bb5",
   "metadata": {
    "execution": {
     "iopub.execute_input": "2023-03-31T01:37:56.996771Z",
     "iopub.status.busy": "2023-03-31T01:37:56.996364Z",
     "iopub.status.idle": "2023-03-31T01:37:58.174562Z",
     "shell.execute_reply": "2023-03-31T01:37:58.173029Z"
    },
    "papermill": {
     "duration": 1.201071,
     "end_time": "2023-03-31T01:37:58.178465",
     "exception": false,
     "start_time": "2023-03-31T01:37:56.977394",
     "status": "completed"
    },
    "tags": []
   },
   "outputs": [
    {
     "data": {
      "image/png": "[encoded data removed]",
      "text/plain": [
       "<Figure size 1000x1000 with 2 Axes>"
      ]
     },
     "metadata": {},
     "output_type": "display_data"
    }
   ],
   "source": [
    "fig, ax = plt.subplots(figsize=(10, 10))\n",
    "\n",
    "corr_matrix = df.corr()\n",
    "sns.heatmap(corr_matrix, annot = True, cmap=\"coolwarm\", ax = ax)\n",
    "plt.show()"
   ]
  },
  {
   "cell_type": "markdown",
   "id": "29d3c73f",
   "metadata": {
    "papermill": {
     "duration": 0.020479,
     "end_time": "2023-03-31T01:37:58.219788",
     "exception": false,
     "start_time": "2023-03-31T01:37:58.199309",
     "status": "completed"
    },
    "tags": []
   },
   "source": [
    "## Splitting the dataset in X, Y"
   ]
  },
  {
   "cell_type": "code",
   "execution_count": 29,
   "id": "ceb43739",
   "metadata": {
    "execution": {
     "iopub.execute_input": "2023-03-31T01:37:58.262958Z",
     "iopub.status.busy": "2023-03-31T01:37:58.262538Z",
     "iopub.status.idle": "2023-03-31T01:37:58.269848Z",
     "shell.execute_reply": "2023-03-31T01:37:58.268794Z"
    },
    "papermill": {
     "duration": 0.031902,
     "end_time": "2023-03-31T01:37:58.272336",
     "exception": false,
     "start_time": "2023-03-31T01:37:58.240434",
     "status": "completed"
    },
    "tags": []
   },
   "outputs": [],
   "source": [
    "X = df.drop(columns=['Transported'],axis = 1)\n",
    "y = df['Transported']"
   ]
  },
  {
   "cell_type": "markdown",
   "id": "788a6c72",
   "metadata": {
    "papermill": {
     "duration": 0.0207,
     "end_time": "2023-03-31T01:37:58.313764",
     "exception": false,
     "start_time": "2023-03-31T01:37:58.293064",
     "status": "completed"
    },
    "tags": []
   },
   "source": [
    "## Train Test Split"
   ]
  },
  {
   "cell_type": "code",
   "execution_count": 30,
   "id": "1c19f0f0",
   "metadata": {
    "execution": {
     "iopub.execute_input": "2023-03-31T01:37:58.356853Z",
     "iopub.status.busy": "2023-03-31T01:37:58.356443Z",
     "iopub.status.idle": "2023-03-31T01:37:58.367073Z",
     "shell.execute_reply": "2023-03-31T01:37:58.366071Z"
    },
    "papermill": {
     "duration": 0.035354,
     "end_time": "2023-03-31T01:37:58.369571",
     "exception": false,
     "start_time": "2023-03-31T01:37:58.334217",
     "status": "completed"
    },
    "tags": []
   },
   "outputs": [],
   "source": [
    "from sklearn.model_selection import train_test_split\n",
    "X_train, X_test, y_train , y_test = train_test_split(X,y, random_state = 42, test_size=0.2)"
   ]
  },
  {
   "cell_type": "code",
   "execution_count": 31,
   "id": "eb483f6d",
   "metadata": {
    "execution": {
     "iopub.execute_input": "2023-03-31T01:37:58.421484Z",
     "iopub.status.busy": "2023-03-31T01:37:58.421077Z",
     "iopub.status.idle": "2023-03-31T01:37:58.427003Z",
     "shell.execute_reply": "2023-03-31T01:37:58.426197Z"
    },
    "papermill": {
     "duration": 0.03015,
     "end_time": "2023-03-31T01:37:58.429303",
     "exception": false,
     "start_time": "2023-03-31T01:37:58.399153",
     "status": "completed"
    },
    "tags": []
   },
   "outputs": [
    {
     "data": {
      "text/plain": [
       "(6954, 13)"
      ]
     },
     "execution_count": 31,
     "metadata": {},
     "output_type": "execute_result"
    }
   ],
   "source": [
    "X_train.shape"
   ]
  },
  {
   "cell_type": "code",
   "execution_count": 32,
   "id": "6c968a30",
   "metadata": {
    "execution": {
     "iopub.execute_input": "2023-03-31T01:37:58.472365Z",
     "iopub.status.busy": "2023-03-31T01:37:58.471875Z",
     "iopub.status.idle": "2023-03-31T01:37:58.478377Z",
     "shell.execute_reply": "2023-03-31T01:37:58.477492Z"
    },
    "papermill": {
     "duration": 0.030791,
     "end_time": "2023-03-31T01:37:58.480676",
     "exception": false,
     "start_time": "2023-03-31T01:37:58.449885",
     "status": "completed"
    },
    "tags": []
   },
   "outputs": [
    {
     "data": {
      "text/plain": [
       "(6954,)"
      ]
     },
     "execution_count": 32,
     "metadata": {},
     "output_type": "execute_result"
    }
   ],
   "source": [
    "y_train.shape"
   ]
  },
  {
   "cell_type": "code",
   "execution_count": null,
   "id": "448b3d79",
   "metadata": {
    "execution": {
     "iopub.execute_input": "2023-03-31T01:29:42.493800Z",
     "iopub.status.busy": "2023-03-31T01:29:42.493380Z",
     "iopub.status.idle": "2023-03-31T01:29:46.132824Z",
     "shell.execute_reply": "2023-03-31T01:29:46.131606Z",
     "shell.execute_reply.started": "2023-03-31T01:29:42.493762Z"
    },
    "papermill": {
     "duration": 0.020457,
     "end_time": "2023-03-31T01:37:58.521747",
     "exception": false,
     "start_time": "2023-03-31T01:37:58.501290",
     "status": "completed"
    },
    "tags": []
   },
   "outputs": [],
   "source": []
  },
  {
   "cell_type": "markdown",
   "id": "bd6cdfec",
   "metadata": {
    "papermill": {
     "duration": 0.020209,
     "end_time": "2023-03-31T01:37:58.562594",
     "exception": false,
     "start_time": "2023-03-31T01:37:58.542385",
     "status": "completed"
    },
    "tags": []
   },
   "source": [
    "## Applying Model"
   ]
  },
  {
   "cell_type": "code",
   "execution_count": 33,
   "id": "5b9cca84",
   "metadata": {
    "execution": {
     "iopub.execute_input": "2023-03-31T01:37:58.607633Z",
     "iopub.status.busy": "2023-03-31T01:37:58.607215Z",
     "iopub.status.idle": "2023-03-31T01:38:00.529045Z",
     "shell.execute_reply": "2023-03-31T01:38:00.527835Z"
    },
    "papermill": {
     "duration": 1.948204,
     "end_time": "2023-03-31T01:38:00.531502",
     "exception": false,
     "start_time": "2023-03-31T01:37:58.583298",
     "status": "completed"
    },
    "tags": []
   },
   "outputs": [
    {
     "data": {
      "text/plain": [
       "XGBClassifier(base_score=0.5, booster='gbtree', callbacks=None,\n",
       "              colsample_bylevel=1, colsample_bynode=1, colsample_bytree=0.8,\n",
       "              early_stopping_rounds=None, enable_categorical=False,\n",
       "              eval_metric=None, gamma=0, gpu_id=-1, grow_policy='depthwise',\n",
       "              importance_type=None, interaction_constraints='',\n",
       "              learning_rate=0.05, max_bin=256, max_cat_to_onehot=4,\n",
       "              max_delta_step=0, max_depth=8, max_leaves=0, min_child_weight=1,\n",
       "              missing=nan, monotone_constraints='()', n_estimators=200,\n",
       "              n_jobs=0, num_parallel_tree=1, predictor='auto', random_state=0,\n",
       "              reg_alpha=0, reg_lambda=1, ...)"
      ]
     },
     "execution_count": 33,
     "metadata": {},
     "output_type": "execute_result"
    }
   ],
   "source": [
    "import xgboost as xgb\n",
    "\n",
    "xgb_model = xgb.XGBClassifier(learning_rate=0.05, max_depth=8, n_estimators=200, subsample=0.8, colsample_bytree=0.8)\n",
    "xgb_model.fit(X_train, y_train)"
   ]
  },
  {
   "cell_type": "markdown",
   "id": "70db8805",
   "metadata": {
    "papermill": {
     "duration": 0.02056,
     "end_time": "2023-03-31T01:38:00.573118",
     "exception": false,
     "start_time": "2023-03-31T01:38:00.552558",
     "status": "completed"
    },
    "tags": []
   },
   "source": []
  },
  {
   "cell_type": "code",
   "execution_count": 34,
   "id": "e16a42fc",
   "metadata": {
    "execution": {
     "iopub.execute_input": "2023-03-31T01:38:00.617707Z",
     "iopub.status.busy": "2023-03-31T01:38:00.616815Z",
     "iopub.status.idle": "2023-03-31T01:38:00.622180Z",
     "shell.execute_reply": "2023-03-31T01:38:00.621162Z"
    },
    "papermill": {
     "duration": 0.030024,
     "end_time": "2023-03-31T01:38:00.624476",
     "exception": false,
     "start_time": "2023-03-31T01:38:00.594452",
     "status": "completed"
    },
    "tags": []
   },
   "outputs": [],
   "source": [
    "from sklearn.metrics import accuracy_score, precision_score, recall_score, confusion_matrix"
   ]
  },
  {
   "cell_type": "code",
   "execution_count": 35,
   "id": "d8e5fdfd",
   "metadata": {
    "execution": {
     "iopub.execute_input": "2023-03-31T01:38:00.668577Z",
     "iopub.status.busy": "2023-03-31T01:38:00.667899Z",
     "iopub.status.idle": "2023-03-31T01:38:00.691569Z",
     "shell.execute_reply": "2023-03-31T01:38:00.690502Z"
    },
    "papermill": {
     "duration": 0.048667,
     "end_time": "2023-03-31T01:38:00.694078",
     "exception": false,
     "start_time": "2023-03-31T01:38:00.645411",
     "status": "completed"
    },
    "tags": []
   },
   "outputs": [
    {
     "data": {
      "text/plain": [
       "array([0, 0, 1, ..., 1, 1, 0])"
      ]
     },
     "execution_count": 35,
     "metadata": {},
     "output_type": "execute_result"
    }
   ],
   "source": [
    "# y_pred = svm.predict(X_test)\n",
    "y_pred = xgb_model.predict(X_test)\n",
    "# y_pred = model.predict(X_test)\n",
    "y_pred"
   ]
  },
  {
   "cell_type": "markdown",
   "id": "b2995b83",
   "metadata": {
    "papermill": {
     "duration": 0.020569,
     "end_time": "2023-03-31T01:38:00.736766",
     "exception": false,
     "start_time": "2023-03-31T01:38:00.716197",
     "status": "completed"
    },
    "tags": []
   },
   "source": [
    "## Evaluation Accuracy, recall, precision"
   ]
  },
  {
   "cell_type": "code",
   "execution_count": 36,
   "id": "631644bc",
   "metadata": {
    "execution": {
     "iopub.execute_input": "2023-03-31T01:38:00.780899Z",
     "iopub.status.busy": "2023-03-31T01:38:00.780473Z",
     "iopub.status.idle": "2023-03-31T01:38:00.793660Z",
     "shell.execute_reply": "2023-03-31T01:38:00.791912Z"
    },
    "papermill": {
     "duration": 0.038567,
     "end_time": "2023-03-31T01:38:00.796202",
     "exception": false,
     "start_time": "2023-03-31T01:38:00.757635",
     "status": "completed"
    },
    "tags": []
   },
   "outputs": [
    {
     "name": "stdout",
     "output_type": "stream",
     "text": [
      "Accuracy:  0.7998849913743531\n",
      "precision:  0.7997737556561086\n",
      "Recall:  0.8052391799544419\n"
     ]
    }
   ],
   "source": [
    "a = accuracy_score(y_test, y_pred)\n",
    "p = precision_score(y_test, y_pred)\n",
    "r = recall_score(y_test, y_pred)\n",
    "\n",
    "print(\"Accuracy: \", a)\n",
    "print(\"precision: \", p)\n",
    "print(\"Recall: \", r)"
   ]
  },
  {
   "cell_type": "markdown",
   "id": "211552e8",
   "metadata": {
    "papermill": {
     "duration": 0.020852,
     "end_time": "2023-03-31T01:38:00.838070",
     "exception": false,
     "start_time": "2023-03-31T01:38:00.817218",
     "status": "completed"
    },
    "tags": []
   },
   "source": [
    "## Evaluation Confusion Matrix"
   ]
  },
  {
   "cell_type": "code",
   "execution_count": 37,
   "id": "8bce0f48",
   "metadata": {
    "execution": {
     "iopub.execute_input": "2023-03-31T01:38:00.882757Z",
     "iopub.status.busy": "2023-03-31T01:38:00.881530Z",
     "iopub.status.idle": "2023-03-31T01:38:00.889958Z",
     "shell.execute_reply": "2023-03-31T01:38:00.889058Z"
    },
    "papermill": {
     "duration": 0.033322,
     "end_time": "2023-03-31T01:38:00.892399",
     "exception": false,
     "start_time": "2023-03-31T01:38:00.859077",
     "status": "completed"
    },
    "tags": []
   },
   "outputs": [],
   "source": [
    "c = confusion_matrix(y_test, y_pred)"
   ]
  },
  {
   "cell_type": "code",
   "execution_count": 38,
   "id": "a6ab376f",
   "metadata": {
    "execution": {
     "iopub.execute_input": "2023-03-31T01:38:00.939006Z",
     "iopub.status.busy": "2023-03-31T01:38:00.937820Z",
     "iopub.status.idle": "2023-03-31T01:38:01.178879Z",
     "shell.execute_reply": "2023-03-31T01:38:01.177694Z"
    },
    "papermill": {
     "duration": 0.26687,
     "end_time": "2023-03-31T01:38:01.181534",
     "exception": false,
     "start_time": "2023-03-31T01:38:00.914664",
     "status": "completed"
    },
    "tags": []
   },
   "outputs": [
    {
     "data": {
      "text/plain": [
       "<AxesSubplot:>"
      ]
     },
     "execution_count": 38,
     "metadata": {},
     "output_type": "execute_result"
    },
    {
     "data": {
      "image/png": "[encoded data removed]",
      "text/plain": [
       "<Figure size 640x480 with 2 Axes>"
      ]
     },
     "metadata": {},
     "output_type": "display_data"
    }
   ],
   "source": [
    "sns.heatmap(c, annot= True, cmap=\"gray\")"
   ]
  },
  {
   "cell_type": "code",
   "execution_count": 39,
   "id": "6aa88b37",
   "metadata": {
    "execution": {
     "iopub.execute_input": "2023-03-31T01:38:01.227743Z",
     "iopub.status.busy": "2023-03-31T01:38:01.226918Z",
     "iopub.status.idle": "2023-03-31T01:38:01.249678Z",
     "shell.execute_reply": "2023-03-31T01:38:01.248333Z"
    },
    "papermill": {
     "duration": 0.049254,
     "end_time": "2023-03-31T01:38:01.252691",
     "exception": false,
     "start_time": "2023-03-31T01:38:01.203437",
     "status": "completed"
    },
    "tags": []
   },
   "outputs": [],
   "source": [
    "ID = pd.read_csv(\"/kaggle/input/spaceship-titanic/test.csv\")['PassengerId']"
   ]
  },
  {
   "cell_type": "code",
   "execution_count": 40,
   "id": "6b870035",
   "metadata": {
    "execution": {
     "iopub.execute_input": "2023-03-31T01:38:01.297945Z",
     "iopub.status.busy": "2023-03-31T01:38:01.297489Z",
     "iopub.status.idle": "2023-03-31T01:38:01.330030Z",
     "shell.execute_reply": "2023-03-31T01:38:01.328940Z"
    },
    "papermill": {
     "duration": 0.058382,
     "end_time": "2023-03-31T01:38:01.332754",
     "exception": false,
     "start_time": "2023-03-31T01:38:01.274372",
     "status": "completed"
    },
    "tags": []
   },
   "outputs": [
    {
     "data": {
      "text/plain": [
       "array([ True, False,  True, ...,  True,  True,  True])"
      ]
     },
     "execution_count": 40,
     "metadata": {},
     "output_type": "execute_result"
    }
   ],
   "source": [
    "y_pred = xgb_model.predict(val)\n",
    "y_pred = y_pred.astype(bool)\n",
    "y_pred"
   ]
  },
  {
   "cell_type": "code",
   "execution_count": 41,
   "id": "982c725b",
   "metadata": {
    "execution": {
     "iopub.execute_input": "2023-03-31T01:38:01.379866Z",
     "iopub.status.busy": "2023-03-31T01:38:01.379149Z",
     "iopub.status.idle": "2023-03-31T01:38:01.393483Z",
     "shell.execute_reply": "2023-03-31T01:38:01.392243Z"
    },
    "papermill": {
     "duration": 0.040255,
     "end_time": "2023-03-31T01:38:01.395916",
     "exception": false,
     "start_time": "2023-03-31T01:38:01.355661",
     "status": "completed"
    },
    "tags": []
   },
   "outputs": [
    {
     "data": {
      "text/html": [
       "<div>\n",
       "<style scoped>\n",
       "    .dataframe tbody tr th:only-of-type {\n",
       "        vertical-align: middle;\n",
       "    }\n",
       "\n",
       "    .dataframe tbody tr th {\n",
       "        vertical-align: top;\n",
       "    }\n",
       "\n",
       "    .dataframe thead th {\n",
       "        text-align: right;\n",
       "    }\n",
       "</style>\n",
       "<table border=\"1\" class=\"dataframe\">\n",
       "  <thead>\n",
       "    <tr style=\"text-align: right;\">\n",
       "      <th></th>\n",
       "      <th>PassengerId</th>\n",
       "      <th>Transported</th>\n",
       "    </tr>\n",
       "  </thead>\n",
       "  <tbody>\n",
       "    <tr>\n",
       "      <th>0</th>\n",
       "      <td>0013_01</td>\n",
       "      <td>True</td>\n",
       "    </tr>\n",
       "    <tr>\n",
       "      <th>1</th>\n",
       "      <td>0018_01</td>\n",
       "      <td>False</td>\n",
       "    </tr>\n",
       "    <tr>\n",
       "      <th>2</th>\n",
       "      <td>0019_01</td>\n",
       "      <td>True</td>\n",
       "    </tr>\n",
       "    <tr>\n",
       "      <th>3</th>\n",
       "      <td>0021_01</td>\n",
       "      <td>True</td>\n",
       "    </tr>\n",
       "    <tr>\n",
       "      <th>4</th>\n",
       "      <td>0023_01</td>\n",
       "      <td>False</td>\n",
       "    </tr>\n",
       "    <tr>\n",
       "      <th>...</th>\n",
       "      <td>...</td>\n",
       "      <td>...</td>\n",
       "    </tr>\n",
       "    <tr>\n",
       "      <th>4272</th>\n",
       "      <td>9266_02</td>\n",
       "      <td>True</td>\n",
       "    </tr>\n",
       "    <tr>\n",
       "      <th>4273</th>\n",
       "      <td>9269_01</td>\n",
       "      <td>False</td>\n",
       "    </tr>\n",
       "    <tr>\n",
       "      <th>4274</th>\n",
       "      <td>9271_01</td>\n",
       "      <td>True</td>\n",
       "    </tr>\n",
       "    <tr>\n",
       "      <th>4275</th>\n",
       "      <td>9273_01</td>\n",
       "      <td>True</td>\n",
       "    </tr>\n",
       "    <tr>\n",
       "      <th>4276</th>\n",
       "      <td>9277_01</td>\n",
       "      <td>True</td>\n",
       "    </tr>\n",
       "  </tbody>\n",
       "</table>\n",
       "<p>4277 rows × 2 columns</p>\n",
       "</div>"
      ],
      "text/plain": [
       "     PassengerId  Transported\n",
       "0        0013_01         True\n",
       "1        0018_01        False\n",
       "2        0019_01         True\n",
       "3        0021_01         True\n",
       "4        0023_01        False\n",
       "...          ...          ...\n",
       "4272     9266_02         True\n",
       "4273     9269_01        False\n",
       "4274     9271_01         True\n",
       "4275     9273_01         True\n",
       "4276     9277_01         True\n",
       "\n",
       "[4277 rows x 2 columns]"
      ]
     },
     "execution_count": 41,
     "metadata": {},
     "output_type": "execute_result"
    }
   ],
   "source": [
    "output=pd.DataFrame({'PassengerId':ID ,'Transported': y_pred})\n",
    "output['Transported']=output['Transported']\n",
    "output"
   ]
  },
  {
   "cell_type": "code",
   "execution_count": 42,
   "id": "1483fd44",
   "metadata": {
    "execution": {
     "iopub.execute_input": "2023-03-31T01:38:01.442097Z",
     "iopub.status.busy": "2023-03-31T01:38:01.441653Z",
     "iopub.status.idle": "2023-03-31T01:38:01.457450Z",
     "shell.execute_reply": "2023-03-31T01:38:01.456043Z"
    },
    "papermill": {
     "duration": 0.042316,
     "end_time": "2023-03-31T01:38:01.460326",
     "exception": false,
     "start_time": "2023-03-31T01:38:01.418010",
     "status": "completed"
    },
    "tags": []
   },
   "outputs": [],
   "source": [
    "output.to_csv('submission.csv',index=False)"
   ]
  },
  {
   "cell_type": "code",
   "execution_count": null,
   "id": "5a1ffe09",
   "metadata": {
    "papermill": {
     "duration": 0.021791,
     "end_time": "2023-03-31T01:38:01.504915",
     "exception": false,
     "start_time": "2023-03-31T01:38:01.483124",
     "status": "completed"
    },
    "tags": []
   },
   "outputs": [],
   "source": []
  }
 ],
 "metadata": {
  "kernelspec": {
   "display_name": "Python 3",
   "language": "python",
   "name": "python3"
  },
  "language_info": {
   "codemirror_mode": {
    "name": "ipython",
    "version": 3
   },
   "file_extension": ".py",
   "mimetype": "text/x-python",
   "name": "python",
   "nbconvert_exporter": "python",
   "pygments_lexer": "ipython3",
   "version": "3.7.12"
  },
  "papermill": {
   "default_parameters": {},
   "duration": 20.808277,
   "end_time": "2023-03-31T01:38:02.350670",
   "environment_variables": {},
   "exception": null,
   "input_path": "__notebook__.ipynb",
   "output_path": "__notebook__.ipynb",
   "parameters": {},
   "start_time": "2023-03-31T01:37:41.542393",
   "version": "2.4.0"
  }
 },
 "nbformat": 4,
 "nbformat_minor": 5
}
